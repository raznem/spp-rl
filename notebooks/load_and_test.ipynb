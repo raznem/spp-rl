{
 "cells": [
  {
   "cell_type": "code",
   "execution_count": 1,
   "metadata": {},
   "outputs": [],
   "source": [
    "from rltoolkit import SAC_AcM, DDPG_AcM, PPO_AcM\n",
    "import pickle as pkl\n",
    "import torch\n",
    "import gym"
   ]
  },
  {
   "cell_type": "markdown",
   "metadata": {},
   "source": [
    "# SPP-SAC Hopper"
   ]
  },
  {
   "cell_type": "code",
   "execution_count": 2,
   "metadata": {},
   "outputs": [],
   "source": [
    "model_path = \"../models/hopper_sac_acm_model.pkl\"\n",
    "\n",
    "torch.set_num_threads(1)\n",
    "\n",
    "ENV_NAME = \"Hopper-v2\"\n",
    "CUSTOM_LOSS = 1\n",
    "DENORMALIZE_ACTOR_OUT = True\n",
    "MIN_MAX_DENORMALIZE = True\n",
    "ACM_CRITIC = True\n",
    "NORM_CLOSS = False"
   ]
  },
  {
   "cell_type": "code",
   "execution_count": 3,
   "metadata": {},
   "outputs": [],
   "source": [
    "model = SAC_AcM(\n",
    "    env_name=ENV_NAME,\n",
    "    custom_loss=CUSTOM_LOSS,\n",
    "    denormalize_actor_out=DENORMALIZE_ACTOR_OUT,\n",
    "    min_max_denormalize=MIN_MAX_DENORMALIZE,\n",
    "    acm_critic=ACM_CRITIC,\n",
    "    norm_closs=NORM_CLOSS,\n",
    ")"
   ]
  },
  {
   "cell_type": "code",
   "execution_count": 4,
   "metadata": {},
   "outputs": [],
   "source": [
    "model.load(model_path)"
   ]
  },
  {
   "cell_type": "code",
   "execution_count": 5,
   "metadata": {},
   "outputs": [
    {
     "data": {
      "text/plain": [
       "3652.4606512293103"
      ]
     },
     "execution_count": 5,
     "metadata": {},
     "output_type": "execute_result"
    }
   ],
   "source": [
    "model.test(episodes=10)"
   ]
  },
  {
   "cell_type": "markdown",
   "metadata": {},
   "source": [
    "### Render simulation:"
   ]
  },
  {
   "cell_type": "code",
   "execution_count": 6,
   "metadata": {},
   "outputs": [],
   "source": [
    "def render_off_policy(model, episodes=1):\n",
    "    for j in range(episodes):\n",
    "        model.env.render()\n",
    "        obs = model.env.reset()\n",
    "        done = False\n",
    "        ep_ret = 0\n",
    "        while not done:\n",
    "            model.env.render()\n",
    "            obs = model.process_obs(obs)\n",
    "            obs = model.replay_buffer.normalize( obs )\n",
    "            action = model.noise_action(obs, act_noise=0, deterministic=True)\n",
    "            action_acm = model.process_action(action, obs)\n",
    "            obs, r, done, _ = model.env.step(action_acm)"
   ]
  },
  {
   "cell_type": "code",
   "execution_count": 7,
   "metadata": {},
   "outputs": [
    {
     "name": "stdout",
     "output_type": "stream",
     "text": [
      "Creating window glfw\n"
     ]
    }
   ],
   "source": [
    "render_off_policy(model, episodes=1)"
   ]
  },
  {
   "cell_type": "markdown",
   "metadata": {},
   "source": [
    "# SPP-SAC HalfCheetah"
   ]
  },
  {
   "cell_type": "code",
   "execution_count": 8,
   "metadata": {},
   "outputs": [],
   "source": [
    "model_path = \"../models/hcheetah_sac_acm_model.pkl\"\n",
    "\n",
    "torch.set_num_threads(1)\n",
    "\n",
    "ENV_NAME = \"HalfCheetah-v2\"\n",
    "CUSTOM_LOSS = 1\n",
    "DENORMALIZE_ACTOR_OUT = True\n",
    "MIN_MAX_DENORMALIZE = True\n",
    "ACM_CRITIC = True\n",
    "NORM_CLOSS = False"
   ]
  },
  {
   "cell_type": "code",
   "execution_count": 9,
   "metadata": {},
   "outputs": [],
   "source": [
    "model = SAC_AcM(\n",
    "    env_name=ENV_NAME,\n",
    "    custom_loss=CUSTOM_LOSS,\n",
    "    denormalize_actor_out=DENORMALIZE_ACTOR_OUT,\n",
    "    min_max_denormalize=MIN_MAX_DENORMALIZE,\n",
    "    acm_critic=ACM_CRITIC,\n",
    "    norm_closs=NORM_CLOSS,\n",
    ")"
   ]
  },
  {
   "cell_type": "code",
   "execution_count": 10,
   "metadata": {},
   "outputs": [],
   "source": [
    "model.load(model_path)"
   ]
  },
  {
   "cell_type": "code",
   "execution_count": 11,
   "metadata": {},
   "outputs": [
    {
     "data": {
      "text/plain": [
       "7347.939640539684"
      ]
     },
     "execution_count": 11,
     "metadata": {},
     "output_type": "execute_result"
    }
   ],
   "source": [
    "model.test(episodes=10)"
   ]
  },
  {
   "cell_type": "code",
   "execution_count": 12,
   "metadata": {},
   "outputs": [
    {
     "name": "stdout",
     "output_type": "stream",
     "text": [
      "Creating window glfw\n"
     ]
    }
   ],
   "source": [
    "render_off_policy(model, episodes=1)"
   ]
  },
  {
   "cell_type": "markdown",
   "metadata": {},
   "source": [
    "# SPP-SAC Ant"
   ]
  },
  {
   "cell_type": "code",
   "execution_count": 13,
   "metadata": {},
   "outputs": [],
   "source": [
    "model_path = \"../models/ant3m_sac_acm_model.pkl\"\n",
    "\n",
    "torch.set_num_threads(1)\n",
    "\n",
    "ENV_NAME = \"Ant-v2\"\n",
    "CUSTOM_LOSS = 1\n",
    "DENORMALIZE_ACTOR_OUT = True\n",
    "MIN_MAX_DENORMALIZE = True\n",
    "ACM_CRITIC = True\n",
    "NORM_CLOSS = False"
   ]
  },
  {
   "cell_type": "code",
   "execution_count": 14,
   "metadata": {},
   "outputs": [],
   "source": [
    "model = SAC_AcM(\n",
    "    env_name=ENV_NAME,\n",
    "    custom_loss=CUSTOM_LOSS,\n",
    "    denormalize_actor_out=DENORMALIZE_ACTOR_OUT,\n",
    "    min_max_denormalize=MIN_MAX_DENORMALIZE,\n",
    "    acm_critic=ACM_CRITIC,\n",
    "    norm_closs=NORM_CLOSS,\n",
    ")"
   ]
  },
  {
   "cell_type": "code",
   "execution_count": 15,
   "metadata": {},
   "outputs": [],
   "source": [
    "model.load(model_path)"
   ]
  },
  {
   "cell_type": "code",
   "execution_count": 16,
   "metadata": {},
   "outputs": [
    {
     "data": {
      "text/plain": [
       "3220.5479644576762"
      ]
     },
     "execution_count": 16,
     "metadata": {},
     "output_type": "execute_result"
    }
   ],
   "source": [
    "model.test(episodes=10)"
   ]
  },
  {
   "cell_type": "code",
   "execution_count": 17,
   "metadata": {},
   "outputs": [
    {
     "name": "stdout",
     "output_type": "stream",
     "text": [
      "Creating window glfw\n"
     ]
    }
   ],
   "source": [
    "render_off_policy(model, episodes=1)"
   ]
  },
  {
   "cell_type": "markdown",
   "metadata": {},
   "source": [
    "# SPP-DDPG HalfCheetah"
   ]
  },
  {
   "cell_type": "code",
   "execution_count": 18,
   "metadata": {},
   "outputs": [],
   "source": [
    "from rltoolkit.acm.models.basic_acm import BasicAcM"
   ]
  },
  {
   "cell_type": "code",
   "execution_count": 19,
   "metadata": {},
   "outputs": [],
   "source": [
    "model_path = \"../models/hcheetah_ddpg_acm_model.pkl\"\n",
    "\n",
    "torch.set_num_threads(1)\n",
    "\n",
    "ENV_NAME = \"HalfCheetah-v2\"\n",
    "CUSTOM_LOSS = 1\n",
    "DENORMALIZE_ACTOR_OUT = True\n",
    "MIN_MAX_DENORMALIZE = True\n",
    "ACM_CRITIC = True\n",
    "NORM_CLOSS = False"
   ]
  },
  {
   "cell_type": "code",
   "execution_count": 20,
   "metadata": {},
   "outputs": [],
   "source": [
    "model = DDPG_AcM(\n",
    "    env_name=ENV_NAME,\n",
    "    custom_loss=CUSTOM_LOSS,\n",
    "    denormalize_actor_out=DENORMALIZE_ACTOR_OUT,\n",
    "    min_max_denormalize=MIN_MAX_DENORMALIZE,\n",
    "    acm_critic=ACM_CRITIC,\n",
    "    norm_closs=NORM_CLOSS,\n",
    ")\n",
    "model.acm = BasicAcM(model.ob_dim * 2, model.ac_dim, False)"
   ]
  },
  {
   "cell_type": "code",
   "execution_count": 21,
   "metadata": {},
   "outputs": [],
   "source": [
    "model.load(model_path)"
   ]
  },
  {
   "cell_type": "code",
   "execution_count": 22,
   "metadata": {},
   "outputs": [
    {
     "data": {
      "text/plain": [
       "8216.312495370858"
      ]
     },
     "execution_count": 22,
     "metadata": {},
     "output_type": "execute_result"
    }
   ],
   "source": [
    "model.test(episodes=10)"
   ]
  },
  {
   "cell_type": "code",
   "execution_count": 23,
   "metadata": {},
   "outputs": [
    {
     "name": "stdout",
     "output_type": "stream",
     "text": [
      "Creating window glfw\n"
     ]
    }
   ],
   "source": [
    "render_off_policy(model, episodes=1)"
   ]
  },
  {
   "cell_type": "markdown",
   "metadata": {},
   "source": [
    "# SPP-DDPG Hopper"
   ]
  },
  {
   "cell_type": "code",
   "execution_count": 24,
   "metadata": {},
   "outputs": [],
   "source": [
    "model_path = \"../models/hopper_ddpg_acm_model.pkl\"\n",
    "\n",
    "torch.set_num_threads(1)\n",
    "\n",
    "ENV_NAME = \"Hopper-v2\"\n",
    "CUSTOM_LOSS = 1\n",
    "DENORMALIZE_ACTOR_OUT = True\n",
    "MIN_MAX_DENORMALIZE = True\n",
    "ACM_CRITIC = True\n",
    "NORM_CLOSS = False"
   ]
  },
  {
   "cell_type": "code",
   "execution_count": 25,
   "metadata": {},
   "outputs": [],
   "source": [
    "model = DDPG_AcM(\n",
    "    env_name=ENV_NAME,\n",
    "    custom_loss=CUSTOM_LOSS,\n",
    "    denormalize_actor_out=DENORMALIZE_ACTOR_OUT,\n",
    "    min_max_denormalize=MIN_MAX_DENORMALIZE,\n",
    "    acm_critic=ACM_CRITIC,\n",
    "    norm_closs=NORM_CLOSS,\n",
    ")\n",
    "model.acm = BasicAcM(model.ob_dim * 2, model.ac_dim, False)"
   ]
  },
  {
   "cell_type": "code",
   "execution_count": 26,
   "metadata": {},
   "outputs": [],
   "source": [
    "model.load(model_path)"
   ]
  },
  {
   "cell_type": "code",
   "execution_count": 27,
   "metadata": {},
   "outputs": [
    {
     "data": {
      "text/plain": [
       "1675.3575791072642"
      ]
     },
     "execution_count": 27,
     "metadata": {},
     "output_type": "execute_result"
    }
   ],
   "source": [
    "model.test(episodes=10)"
   ]
  },
  {
   "cell_type": "code",
   "execution_count": 28,
   "metadata": {},
   "outputs": [
    {
     "name": "stdout",
     "output_type": "stream",
     "text": [
      "Creating window glfw\n"
     ]
    }
   ],
   "source": [
    "render_off_policy(model, episodes=1)"
   ]
  },
  {
   "cell_type": "markdown",
   "metadata": {},
   "source": [
    "# SPP-DDPG Ant"
   ]
  },
  {
   "cell_type": "code",
   "execution_count": 29,
   "metadata": {},
   "outputs": [],
   "source": [
    "model_path = \"../models/ant3m_ddpg_acm_model.pkl\"\n",
    "\n",
    "torch.set_num_threads(1)\n",
    "\n",
    "ENV_NAME = \"Ant-v2\"\n",
    "CUSTOM_LOSS = 1\n",
    "DENORMALIZE_ACTOR_OUT = True\n",
    "MIN_MAX_DENORMALIZE = True\n",
    "ACM_CRITIC = True\n",
    "NORM_CLOSS = False"
   ]
  },
  {
   "cell_type": "code",
   "execution_count": 30,
   "metadata": {},
   "outputs": [],
   "source": [
    "model = DDPG_AcM(\n",
    "    env_name=ENV_NAME,\n",
    "    custom_loss=CUSTOM_LOSS,\n",
    "    denormalize_actor_out=DENORMALIZE_ACTOR_OUT,\n",
    "    min_max_denormalize=MIN_MAX_DENORMALIZE,\n",
    "    acm_critic=ACM_CRITIC,\n",
    "    norm_closs=NORM_CLOSS,\n",
    ")\n",
    "model.acm = BasicAcM(model.ob_dim * 2, model.ac_dim, False)"
   ]
  },
  {
   "cell_type": "code",
   "execution_count": 31,
   "metadata": {},
   "outputs": [],
   "source": [
    "model.load(model_path)"
   ]
  },
  {
   "cell_type": "code",
   "execution_count": 32,
   "metadata": {},
   "outputs": [
    {
     "data": {
      "text/plain": [
       "3151.900473908069"
      ]
     },
     "execution_count": 32,
     "metadata": {},
     "output_type": "execute_result"
    }
   ],
   "source": [
    "model.test(episodes=10)"
   ]
  },
  {
   "cell_type": "code",
   "execution_count": 33,
   "metadata": {},
   "outputs": [
    {
     "name": "stdout",
     "output_type": "stream",
     "text": [
      "Creating window glfw\n"
     ]
    }
   ],
   "source": [
    "render_off_policy(model, episodes=1)"
   ]
  },
  {
   "cell_type": "markdown",
   "metadata": {},
   "source": [
    "# SPP-PPO HalfCheetah"
   ]
  },
  {
   "cell_type": "code",
   "execution_count": 34,
   "metadata": {},
   "outputs": [],
   "source": [
    "from rltoolkit.buffer import MemoryAcM"
   ]
  },
  {
   "cell_type": "code",
   "execution_count": 35,
   "metadata": {},
   "outputs": [],
   "source": [
    "model_path = \"../models/hcheetah_ppo_acm.pkl\"\n",
    "\n",
    "torch.set_num_threads(1)\n",
    "\n",
    "ENV_NAME = \"HalfCheetah-v2\"\n",
    "CUSTOM_LOSS = 1\n",
    "DENORMALIZE_ACTOR_OUT = True\n",
    "MIN_MAX_DENORMALIZE = True\n",
    "ACM_CRITIC = True\n",
    "NORM_CLOSS = True"
   ]
  },
  {
   "cell_type": "code",
   "execution_count": 36,
   "metadata": {},
   "outputs": [
    {
     "name": "stderr",
     "output_type": "stream",
     "text": [
      "2020-06-03 13:19:29.276 MainProcess WARNING  In AcM normalization obs_norm_alpha is redundant.\n"
     ]
    }
   ],
   "source": [
    "model = PPO_AcM(\n",
    "    env_name=ENV_NAME,\n",
    "    custom_loss=CUSTOM_LOSS,\n",
    "    denormalize_actor_out=DENORMALIZE_ACTOR_OUT,\n",
    "    min_max_denormalize=MIN_MAX_DENORMALIZE,\n",
    "    norm_closs=NORM_CLOSS,\n",
    ")"
   ]
  },
  {
   "cell_type": "code",
   "execution_count": 37,
   "metadata": {},
   "outputs": [],
   "source": [
    "model.load(model_path)\n",
    "model.replay_buffer.min_obs = model.min_obs\n",
    "model.replay_buffer.max_obs = model.max_obs\n",
    "model.buffer = MemoryAcM(\n",
    "    obs_mean=model.obs_mean,\n",
    "    obs_std=model.obs_std,\n",
    "    device=model.device,\n",
    "    alpha=model.obs_norm_alpha,\n",
    "    max_obs=model.max_obs,\n",
    "    min_obs=model.min_obs,\n",
    "    min_max_denormalize=model.min_max_denormalize,\n",
    ")"
   ]
  },
  {
   "cell_type": "code",
   "execution_count": 38,
   "metadata": {},
   "outputs": [
    {
     "data": {
      "text/plain": [
       "4232.026076982818"
      ]
     },
     "execution_count": 38,
     "metadata": {},
     "output_type": "execute_result"
    }
   ],
   "source": [
    "model.test(episodes=10)"
   ]
  },
  {
   "cell_type": "code",
   "execution_count": 40,
   "metadata": {},
   "outputs": [],
   "source": [
    "episodes = 1\n",
    "for j in range(episodes):\n",
    "    model.env.render()\n",
    "    obs = model.env.reset()\n",
    "    done = False\n",
    "    ep_ret = 0\n",
    "    while not done:\n",
    "        model.env.render()\n",
    "        obs = model.process_obs(obs)\n",
    "        obs = model.buffer.normalize(obs)  # used only for normalization\n",
    "        action, _ = model.actor.act(obs, deterministic=True)\n",
    "        action_proc = model.process_action(action, obs)\n",
    "        obs, r, done, _ = model.env.step(action_proc)\n",
    "        \n"
   ]
  },
  {
   "cell_type": "markdown",
   "metadata": {},
   "source": [
    "# SPP-PPO Hopper"
   ]
  },
  {
   "cell_type": "code",
   "execution_count": 41,
   "metadata": {},
   "outputs": [],
   "source": [
    "model_path = \"../models/hopper_ppo_acm.pkl\"\n",
    "\n",
    "torch.set_num_threads(1)\n",
    "\n",
    "ENV_NAME = \"Hopper-v2\"\n",
    "CUSTOM_LOSS = 1\n",
    "DENORMALIZE_ACTOR_OUT = True\n",
    "MIN_MAX_DENORMALIZE = True\n",
    "ACM_CRITIC = True\n",
    "NORM_CLOSS = True"
   ]
  },
  {
   "cell_type": "code",
   "execution_count": 42,
   "metadata": {},
   "outputs": [
    {
     "name": "stderr",
     "output_type": "stream",
     "text": [
      "2020-06-03 13:21:03.574 MainProcess WARNING  In AcM normalization obs_norm_alpha is redundant.\n"
     ]
    }
   ],
   "source": [
    "model = PPO_AcM(\n",
    "    env_name=ENV_NAME,\n",
    "    custom_loss=CUSTOM_LOSS,\n",
    "    denormalize_actor_out=DENORMALIZE_ACTOR_OUT,\n",
    "    min_max_denormalize=MIN_MAX_DENORMALIZE,\n",
    "    norm_closs=NORM_CLOSS,\n",
    ")"
   ]
  },
  {
   "cell_type": "code",
   "execution_count": 43,
   "metadata": {},
   "outputs": [],
   "source": [
    "model.load(model_path)\n",
    "model.replay_buffer.min_obs = model.min_obs\n",
    "model.replay_buffer.max_obs = model.max_obs\n",
    "model.buffer = MemoryAcM(\n",
    "    obs_mean=model.obs_mean,\n",
    "    obs_std=model.obs_std,\n",
    "    device=model.device,\n",
    "    alpha=model.obs_norm_alpha,\n",
    "    max_obs=model.max_obs,\n",
    "    min_obs=model.min_obs,\n",
    "    min_max_denormalize=model.min_max_denormalize,\n",
    ")"
   ]
  },
  {
   "cell_type": "code",
   "execution_count": 44,
   "metadata": {},
   "outputs": [
    {
     "data": {
      "text/plain": [
       "1400.0603166060203"
      ]
     },
     "execution_count": 44,
     "metadata": {},
     "output_type": "execute_result"
    }
   ],
   "source": [
    "model.test(episodes=10)"
   ]
  },
  {
   "cell_type": "code",
   "execution_count": 45,
   "metadata": {},
   "outputs": [
    {
     "name": "stdout",
     "output_type": "stream",
     "text": [
      "Creating window glfw\n"
     ]
    }
   ],
   "source": [
    "episodes = 1\n",
    "for j in range(episodes):\n",
    "    model.env.render()\n",
    "    obs = model.env.reset()\n",
    "    done = False\n",
    "    ep_ret = 0\n",
    "    while not done:\n",
    "        model.env.render()\n",
    "        obs = model.process_obs(obs)\n",
    "        obs = model.buffer.normalize(obs)  # used only for normalization\n",
    "        action, _ = model.actor.act(obs, deterministic=True)\n",
    "        action_proc = model.process_action(action, obs)\n",
    "        obs, r, done, _ = model.env.step(action_proc)\n",
    "        \n"
   ]
  }
 ],
 "metadata": {
  "kernelspec": {
   "display_name": "Python 3",
   "language": "python",
   "name": "python3"
  },
  "language_info": {
   "codemirror_mode": {
    "name": "ipython",
    "version": 3
   },
   "file_extension": ".py",
   "mimetype": "text/x-python",
   "name": "python",
   "nbconvert_exporter": "python",
   "pygments_lexer": "ipython3",
   "version": "3.7.4"
  }
 },
 "nbformat": 4,
 "nbformat_minor": 4
}
